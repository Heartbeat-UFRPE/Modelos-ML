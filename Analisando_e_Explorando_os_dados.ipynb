{
  "nbformat": 4,
  "nbformat_minor": 0,
  "metadata": {
    "colab": {
      "name": "Analisando e Explorando os dados.ipynb",
      "provenance": [],
      "collapsed_sections": []
    },
    "kernelspec": {
      "name": "python3",
      "display_name": "Python 3"
    }
  },
  "cells": [
    {
      "cell_type": "code",
      "metadata": {
        "id": "hyp_PRJ5kndw",
        "outputId": "ffe51fc8-aabb-42ae-a4b9-acb0e191800c",
        "colab": {
          "base_uri": "https://localhost:8080/",
          "height": 224
        }
      },
      "source": [
        "import pandas as pd\n",
        "import matplotlib.pyplot as plt\n",
        "\n",
        "df = pd.read_csv(\"/content/sample_data/heart_failure_clinical_records_dataset.csv\")\n",
        "\n",
        "df.head()\n"
      ],
      "execution_count": 13,
      "outputs": [
        {
          "output_type": "execute_result",
          "data": {
            "text/html": [
              "<div>\n",
              "<style scoped>\n",
              "    .dataframe tbody tr th:only-of-type {\n",
              "        vertical-align: middle;\n",
              "    }\n",
              "\n",
              "    .dataframe tbody tr th {\n",
              "        vertical-align: top;\n",
              "    }\n",
              "\n",
              "    .dataframe thead th {\n",
              "        text-align: right;\n",
              "    }\n",
              "</style>\n",
              "<table border=\"1\" class=\"dataframe\">\n",
              "  <thead>\n",
              "    <tr style=\"text-align: right;\">\n",
              "      <th></th>\n",
              "      <th>age</th>\n",
              "      <th>anaemia</th>\n",
              "      <th>creatinine_phosphokinase</th>\n",
              "      <th>diabetes</th>\n",
              "      <th>ejection_fraction</th>\n",
              "      <th>high_blood_pressure</th>\n",
              "      <th>platelets</th>\n",
              "      <th>serum_creatinine</th>\n",
              "      <th>serum_sodium</th>\n",
              "      <th>sex</th>\n",
              "      <th>smoking</th>\n",
              "      <th>time</th>\n",
              "      <th>DEATH_EVENT</th>\n",
              "    </tr>\n",
              "  </thead>\n",
              "  <tbody>\n",
              "    <tr>\n",
              "      <th>0</th>\n",
              "      <td>75.0</td>\n",
              "      <td>0</td>\n",
              "      <td>582</td>\n",
              "      <td>0</td>\n",
              "      <td>20</td>\n",
              "      <td>1</td>\n",
              "      <td>265000.00</td>\n",
              "      <td>1.9</td>\n",
              "      <td>130</td>\n",
              "      <td>1</td>\n",
              "      <td>0</td>\n",
              "      <td>4</td>\n",
              "      <td>1</td>\n",
              "    </tr>\n",
              "    <tr>\n",
              "      <th>1</th>\n",
              "      <td>55.0</td>\n",
              "      <td>0</td>\n",
              "      <td>7861</td>\n",
              "      <td>0</td>\n",
              "      <td>38</td>\n",
              "      <td>0</td>\n",
              "      <td>263358.03</td>\n",
              "      <td>1.1</td>\n",
              "      <td>136</td>\n",
              "      <td>1</td>\n",
              "      <td>0</td>\n",
              "      <td>6</td>\n",
              "      <td>1</td>\n",
              "    </tr>\n",
              "    <tr>\n",
              "      <th>2</th>\n",
              "      <td>65.0</td>\n",
              "      <td>0</td>\n",
              "      <td>146</td>\n",
              "      <td>0</td>\n",
              "      <td>20</td>\n",
              "      <td>0</td>\n",
              "      <td>162000.00</td>\n",
              "      <td>1.3</td>\n",
              "      <td>129</td>\n",
              "      <td>1</td>\n",
              "      <td>1</td>\n",
              "      <td>7</td>\n",
              "      <td>1</td>\n",
              "    </tr>\n",
              "    <tr>\n",
              "      <th>3</th>\n",
              "      <td>50.0</td>\n",
              "      <td>1</td>\n",
              "      <td>111</td>\n",
              "      <td>0</td>\n",
              "      <td>20</td>\n",
              "      <td>0</td>\n",
              "      <td>210000.00</td>\n",
              "      <td>1.9</td>\n",
              "      <td>137</td>\n",
              "      <td>1</td>\n",
              "      <td>0</td>\n",
              "      <td>7</td>\n",
              "      <td>1</td>\n",
              "    </tr>\n",
              "    <tr>\n",
              "      <th>4</th>\n",
              "      <td>65.0</td>\n",
              "      <td>1</td>\n",
              "      <td>160</td>\n",
              "      <td>1</td>\n",
              "      <td>20</td>\n",
              "      <td>0</td>\n",
              "      <td>327000.00</td>\n",
              "      <td>2.7</td>\n",
              "      <td>116</td>\n",
              "      <td>0</td>\n",
              "      <td>0</td>\n",
              "      <td>8</td>\n",
              "      <td>1</td>\n",
              "    </tr>\n",
              "  </tbody>\n",
              "</table>\n",
              "</div>"
            ],
            "text/plain": [
              "    age  anaemia  creatinine_phosphokinase  ...  smoking  time  DEATH_EVENT\n",
              "0  75.0        0                       582  ...        0     4            1\n",
              "1  55.0        0                      7861  ...        0     6            1\n",
              "2  65.0        0                       146  ...        1     7            1\n",
              "3  50.0        1                       111  ...        0     7            1\n",
              "4  65.0        1                       160  ...        0     8            1\n",
              "\n",
              "[5 rows x 13 columns]"
            ]
          },
          "metadata": {
            "tags": []
          },
          "execution_count": 13
        }
      ]
    },
    {
      "cell_type": "code",
      "metadata": {
        "id": "zNxcPXtQjOgL",
        "outputId": "c87a38e3-2dc2-47bb-e3ba-eb5b3d78e6a0",
        "colab": {
          "base_uri": "https://localhost:8080/",
          "height": 248
        }
      },
      "source": [
        "import pandas as pd\n",
        "import matplotlib.pyplot as plt\n",
        "\n",
        "df=pd.read_csv('/content/sample_data/heart_failure_clinical_records_dataset.csv')\n",
        "\n",
        "genero = df['sex'].value_counts().reset_index()\n",
        "genero.columns = ['sex','count']\n",
        "\n",
        "masculino = genero['count'][1]\n",
        "feminino = genero['count'][0]\n",
        "\n",
        "labels = ['Masculino', 'Feminino']\n",
        "size = [masculino,feminino]\n",
        "\n",
        "explode=(0.1,0)\n",
        "plt.pie(size,explode=explode, labels=labels,\n",
        "        autopct='%1.1f%%', shadow=True)\n",
        "plt.axis('equal')\n",
        "plt.show()\n"
      ],
      "execution_count": 12,
      "outputs": [
        {
          "output_type": "display_data",
          "data": {
            "image/png": "[encoded data removed]",
            "text/plain": [
              "<Figure size 432x288 with 1 Axes>"
            ]
          },
          "metadata": {
            "tags": []
          }
        }
      ]
    },
    {
      "cell_type": "code",
      "metadata": {
        "id": "4Wq-4hTtKENG",
        "outputId": "71c8b5db-6ffb-45fb-da35-1687178ad93d",
        "colab": {
          "base_uri": "https://localhost:8080/",
          "height": 255
        }
      },
      "source": [
        "import pandas as pd\n",
        "\n",
        "df=pd.read_csv('/content/sample_data/heart_failure_clinical_records_dataset.csv')\n",
        "\n",
        "dadosFaltantes = df.isnull().sum()\n",
        "print(dadosFaltantes)"
      ],
      "execution_count": 14,
      "outputs": [
        {
          "output_type": "stream",
          "text": [
            "age                         0\n",
            "anaemia                     0\n",
            "creatinine_phosphokinase    0\n",
            "diabetes                    0\n",
            "ejection_fraction           0\n",
            "high_blood_pressure         0\n",
            "platelets                   0\n",
            "serum_creatinine            0\n",
            "serum_sodium                0\n",
            "sex                         0\n",
            "smoking                     0\n",
            "time                        0\n",
            "DEATH_EVENT                 0\n",
            "dtype: int64\n"
          ],
          "name": "stdout"
        }
      ]
    },
    {
      "cell_type": "code",
      "metadata": {
        "id": "4k-n5sa6rFMv",
        "outputId": "dc0d7045-5497-4f9a-cb35-6416362c45ec",
        "colab": {
          "base_uri": "https://localhost:8080/",
          "height": 935
        }
      },
      "source": [
        "dff = pd.read_excel(\"/content/sample_data/ABBREV.xlsx\")\n",
        "dff.isnull().sum()\n"
      ],
      "execution_count": 15,
      "outputs": [
        {
          "output_type": "execute_result",
          "data": {
            "text/plain": [
              "NDB_No                  0\n",
              "Shrt_Desc               0\n",
              "Water_(g)               1\n",
              "Energ_Kcal              0\n",
              "Protein_(g)             0\n",
              "Lipid_Tot_(g)           0\n",
              "Ash_(g)               325\n",
              "Carbohydrt_(g)          0\n",
              "Fiber_TD_(g)          594\n",
              "Sugar_Tot_(g)        1832\n",
              "Calcium_(mg)          348\n",
              "Iron_(mg)             144\n",
              "Magnesium_(mg)        739\n",
              "Phosphorus_(mg)       579\n",
              "Potassium_(mg)        426\n",
              "Sodium_(mg)            83\n",
              "Zinc_(mg)             706\n",
              "Copper_mg)           1257\n",
              "Manganese_(mg)       2160\n",
              "Selenium_(µg)        1700\n",
              "Vit_C_(mg)            818\n",
              "Thiamin_(mg)          634\n",
              "Riboflavin_(mg)       616\n",
              "Niacin_(mg)           637\n",
              "Panto_Acid_mg)       2242\n",
              "Vit_B6_(mg)           905\n",
              "Folate_Tot_(µg)      1261\n",
              "Folic_Acid_(µg)      2039\n",
              "Food_Folate_(µg)     1768\n",
              "Folate_DFE_(µg)      2057\n",
              "Choline_Tot_ (mg)    4016\n",
              "Vit_B12_(µg)         1193\n",
              "Vit_A_IU              711\n",
              "Vit_A_RAE            1535\n",
              "Retinol_(µg)         1806\n",
              "Alpha_Carot_(µg)     3258\n",
              "Beta_Carot_(µg)      3162\n",
              "Beta_Crypt_(µg)      3270\n",
              "Lycopene_(µg)        3292\n",
              "Lut+Zea_ (µg)        3315\n",
              "Vit_E_(mg)           2889\n",
              "Vit_D_µg             3262\n",
              "Vit_D_IU             3211\n",
              "Vit_K_(µg)           3563\n",
              "FA_Sat_(g)            349\n",
              "FA_Mono_(g)           666\n",
              "FA_Poly_(g)           665\n",
              "Cholestrl_(mg)        410\n",
              "GmWt_1                300\n",
              "GmWt_Desc1            299\n",
              "GmWt_2               3965\n",
              "GmWt_Desc2           3965\n",
              "Refuse_Pct             50\n",
              "dtype: int64"
            ]
          },
          "metadata": {
            "tags": []
          },
          "execution_count": 15
        }
      ]
    },
    {
      "cell_type": "code",
      "metadata": {
        "id": "tM4Wg9eGVx1b"
      },
      "source": [
        ""
      ],
      "execution_count": null,
      "outputs": []
    }
  ]
}